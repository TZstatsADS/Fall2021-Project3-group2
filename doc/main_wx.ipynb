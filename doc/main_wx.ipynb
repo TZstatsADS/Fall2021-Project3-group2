{
 "cells": [
  {
   "cell_type": "code",
   "execution_count": 1,
   "id": "4539b12d",
   "metadata": {},
   "outputs": [],
   "source": [
    "# Import required packages\n",
    "import numpy as np\n",
    "import cv2\n",
    "import matplotlib.pyplot as plt\n",
    "from sklearn.metrics import classification_report\n",
    "from sklearn.linear_model import LogisticRegression"
   ]
  },
  {
   "cell_type": "markdown",
   "id": "11e4fa0f",
   "metadata": {},
   "source": [
    "## 1. Load the datasets"
   ]
  },
  {
   "cell_type": "markdown",
   "id": "44ac1d50",
   "metadata": {},
   "source": [
    "For the project, we provide a training set with 50000 images in the directory `../data/images/` with:\n",
    "- noisy labels for all images provided in `../data/noisy_label.csv`;\n",
    "- clean labels for the first 10000 images provided in `../data/clean_labels.csv`. "
   ]
  },
  {
   "cell_type": "code",
   "execution_count": 4,
   "id": "a022065b",
   "metadata": {
    "scrolled": true
   },
   "outputs": [],
   "source": [
    "# [DO NOT MODIFY THIS CELL]\n",
    "\n",
    "# load the images\n",
    "n_img = 50000\n",
    "n_noisy = 40000\n",
    "n_clean_noisy = n_img - n_noisy\n",
    "imgs = np.empty((n_img,32,32,3))\n",
    "for i in range(n_img):\n",
    "    img_fn = f'../data/images/{i+1:05d}.png'\n",
    "    imgs[i,:,:,:]=cv2.cvtColor(cv2.imread(img_fn),cv2.COLOR_BGR2RGB)\n",
    "    \n",
    "\n",
    "# load the labels\n",
    "clean_labels = np.genfromtxt('../data/clean_labels.csv', delimiter=',', dtype=\"int8\")\n",
    "noisy_labels = np.genfromtxt('../data/noisy_labels.csv', delimiter=',', dtype=\"int8\")"
   ]
  },
  {
   "cell_type": "markdown",
   "id": "9305ee0c",
   "metadata": {},
   "source": [
    "For illustration, we present a small subset (of size 8) of the images with their clean and noisy labels in `clean_noisy_trainset`. You are encouraged to explore more characteristics of the label noises on the whole dataset. "
   ]
  },
  {
   "cell_type": "code",
   "execution_count": null,
   "id": "64729dcf",
   "metadata": {
    "scrolled": true
   },
   "outputs": [],
   "source": [
    "# [DO NOT MODIFY THIS CELL]\n",
    "\n",
    "fig = plt.figure()\n",
    "\n",
    "ax1 = fig.add_subplot(2,4,1)\n",
    "ax1.imshow(imgs[0]/255)\n",
    "ax2 = fig.add_subplot(2,4,2)\n",
    "ax2.imshow(imgs[1]/255)\n",
    "ax3 = fig.add_subplot(2,4,3)\n",
    "ax3.imshow(imgs[2]/255)\n",
    "ax4 = fig.add_subplot(2,4,4)\n",
    "ax4.imshow(imgs[3]/255)\n",
    "ax1 = fig.add_subplot(2,4,5)\n",
    "ax1.imshow(imgs[4]/255)\n",
    "ax2 = fig.add_subplot(2,4,6)\n",
    "ax2.imshow(imgs[5]/255)\n",
    "ax3 = fig.add_subplot(2,4,7)\n",
    "ax3.imshow(imgs[6]/255)\n",
    "ax4 = fig.add_subplot(2,4,8)\n",
    "ax4.imshow(imgs[7]/255)\n",
    "\n",
    "# The class-label correspondence\n",
    "classes = ('plane', 'car', 'bird', 'cat',\n",
    "           'deer', 'dog', 'frog', 'horse', 'ship', 'truck')\n",
    "\n",
    "# print clean labels\n",
    "print('Clean labels:')\n",
    "print(' '.join('%5s' % classes[clean_labels[j]] for j in range(8)))\n",
    "# print noisy labels\n",
    "print('Noisy labels:')\n",
    "print(' '.join('%5s' % classes[noisy_labels[j]] for j in range(8)))\n"
   ]
  },
  {
   "cell_type": "markdown",
   "id": "f35b3958",
   "metadata": {},
   "source": [
    "## 2. The predictive model\n",
    "\n",
    "We consider a baseline model directly on the noisy dataset without any label corrections. RGB histogram features are extracted to fit a logistic regression model."
   ]
  },
  {
   "cell_type": "markdown",
   "id": "be21b0e3",
   "metadata": {},
   "source": [
    "### 2.1. Baseline Model"
   ]
  },
  {
   "cell_type": "code",
   "execution_count": null,
   "id": "8fe3908d",
   "metadata": {},
   "outputs": [],
   "source": [
    "# [DO NOT MODIFY THIS CELL]\n",
    "# RGB histogram dataset construction\n",
    "no_bins = 6\n",
    "bins = np.linspace(0,255,no_bins) # the range of the rgb histogram\n",
    "target_vec = np.empty(n_img)\n",
    "featubgre_mtx = np.empty((n_img,3*(len(bins)-1)))\n",
    "i = 0\n",
    "for i in range(n_img):\n",
    "    # The target vector consists of noisy labels\n",
    "    target_vec[i] = noisy_labels[i]\n",
    "    \n",
    "    # Use the numbers of pixels in each bin for all three channels as the features\n",
    "    feature1 = np.histogram(imgs[i][:,:,0],bins=bins)[0] \n",
    "    feature2 = np.histogram(imgs[i][:,:,1],bins=bins)[0]\n",
    "    feature3 = np.histogram(imgs[i][:,:,2],bins=bins)[0]\n",
    "    \n",
    "    # Concatenate three features\n",
    "    feature_mtx[i,] = np.concatenate((feature1, feature2, feature3), axis=None)\n",
    "    i += 1"
   ]
  },
  {
   "cell_type": "code",
   "execution_count": null,
   "id": "9d3cc35b",
   "metadata": {},
   "outputs": [],
   "source": [
    "# [DO NOT MODIFY THIS CELL]\n",
    "# Train a logistic regression model \n",
    "clf = LogisticRegression(random_state=0).fit(feature_mtx, target_vec)"
   ]
  },
  {
   "cell_type": "markdown",
   "id": "4ea3ed17",
   "metadata": {},
   "source": [
    "For the convenience of evaluation, we write the following function `predictive_model` that does the label prediction. **For your predictive model, feel free to modify the function, but make sure the function takes an RGB image of numpy.array format with dimension $32\\times32\\times3$  as input, and returns one single label as output.**"
   ]
  },
  {
   "cell_type": "code",
   "execution_count": null,
   "id": "6c357550",
   "metadata": {},
   "outputs": [],
   "source": [
    "# [DO NOT MODIFY THIS CELL]\n",
    "def baseline_model(image):\n",
    "    '''\n",
    "    This is the baseline predictive model that takes in the image and returns a label prediction\n",
    "    '''\n",
    "    feature1 = np.histogram(image[:,:,0],bins=bins)[0]\n",
    "    feature2 = np.histogram(image[:,:,1],bins=bins)[0]\n",
    "    feature3 = np.histogram(image[:,:,2],bins=bins)[0]\n",
    "    feature = np.concatenate((feature1, feature2, feature3), axis=None).reshape(1,-1)\n",
    "    return clf.predict(feature)"
   ]
  },
  {
   "cell_type": "markdown",
   "id": "1348d985",
   "metadata": {},
   "source": [
    "### 2.2. Model I"
   ]
  },
  {
   "cell_type": "code",
   "execution_count": 42,
   "id": "9c192728",
   "metadata": {
    "scrolled": false
   },
   "outputs": [
    {
     "name": "stdout",
     "output_type": "stream",
     "text": [
      "Runtime of the program is 27.547077894210815 seconds\n",
      "Epoch 1/20\n",
      "625/625 [==============================] - 33s 53ms/step - loss: 2.2639 - accuracy: 0.1612 - val_loss: 1.9611 - val_accuracy: 0.4003\n",
      "Epoch 2/20\n",
      "625/625 [==============================] - 35s 57ms/step - loss: 2.2243 - accuracy: 0.2080 - val_loss: 1.8691 - val_accuracy: 0.4400\n",
      "Epoch 3/20\n",
      "625/625 [==============================] - 35s 56ms/step - loss: 2.1944 - accuracy: 0.2336 - val_loss: 1.7687 - val_accuracy: 0.4924\n",
      "Epoch 4/20\n",
      "625/625 [==============================] - 35s 56ms/step - loss: 2.1572 - accuracy: 0.2552 - val_loss: 1.7317 - val_accuracy: 0.5251\n",
      "Epoch 5/20\n",
      "625/625 [==============================] - 36s 57ms/step - loss: 2.1055 - accuracy: 0.2792 - val_loss: 1.6923 - val_accuracy: 0.5151\n",
      "Epoch 6/20\n",
      "625/625 [==============================] - 36s 57ms/step - loss: 2.0257 - accuracy: 0.3098 - val_loss: 1.6427 - val_accuracy: 0.5144\n",
      "Epoch 7/20\n",
      "625/625 [==============================] - 36s 58ms/step - loss: 1.9069 - accuracy: 0.3471 - val_loss: 1.7186 - val_accuracy: 0.4512\n",
      "Epoch 8/20\n",
      "625/625 [==============================] - 35s 55ms/step - loss: 1.7425 - accuracy: 0.4052 - val_loss: 1.7982 - val_accuracy: 0.4187\n",
      "Epoch 9/20\n",
      "625/625 [==============================] - 35s 56ms/step - loss: 1.5524 - accuracy: 0.4722 - val_loss: 1.9550 - val_accuracy: 0.3727\n",
      "Epoch 10/20\n",
      "625/625 [==============================] - 35s 56ms/step - loss: 1.3465 - accuracy: 0.5462 - val_loss: 2.1151 - val_accuracy: 0.3575\n",
      "Epoch 11/20\n",
      "625/625 [==============================] - 35s 56ms/step - loss: 1.1460 - accuracy: 0.6115 - val_loss: 2.3903 - val_accuracy: 0.3307\n",
      "Epoch 12/20\n",
      "625/625 [==============================] - 35s 57ms/step - loss: 0.9515 - accuracy: 0.6791 - val_loss: 2.7176 - val_accuracy: 0.2919\n",
      "Epoch 13/20\n",
      "625/625 [==============================] - 35s 55ms/step - loss: 0.7818 - accuracy: 0.7378 - val_loss: 3.0744 - val_accuracy: 0.2851\n",
      "Epoch 14/20\n",
      "625/625 [==============================] - 35s 56ms/step - loss: 0.6353 - accuracy: 0.7847 - val_loss: 3.4956 - val_accuracy: 0.2800\n",
      "Epoch 15/20\n",
      "625/625 [==============================] - 35s 56ms/step - loss: 0.5150 - accuracy: 0.8291 - val_loss: 3.8097 - val_accuracy: 0.2785\n",
      "Epoch 16/20\n",
      "625/625 [==============================] - 36s 57ms/step - loss: 0.4284 - accuracy: 0.8571 - val_loss: 4.2934 - val_accuracy: 0.2807\n",
      "Epoch 17/20\n",
      "625/625 [==============================] - 36s 57ms/step - loss: 0.3694 - accuracy: 0.8788 - val_loss: 4.4890 - val_accuracy: 0.2738\n",
      "Epoch 18/20\n",
      "625/625 [==============================] - 35s 56ms/step - loss: 0.3214 - accuracy: 0.8904 - val_loss: 5.0162 - val_accuracy: 0.2621\n",
      "Epoch 19/20\n",
      "625/625 [==============================] - 35s 57ms/step - loss: 0.2780 - accuracy: 0.9078 - val_loss: 5.3830 - val_accuracy: 0.2884\n",
      "Epoch 20/20\n",
      "625/625 [==============================] - 37s 59ms/step - loss: 0.2516 - accuracy: 0.9153 - val_loss: 5.8880 - val_accuracy: 0.2543\n"
     ]
    }
   ],
   "source": [
    "# [BUILD A MORE SOPHISTICATED PREDICTIVE MODEL]\n",
    "import time\n",
    "start = time.time()\n",
    "\n",
    "# write your code here...\n",
    "\n",
    "from tensorflow import keras \n",
    "import tensorflow\n",
    "from tensorflow.keras.models import Sequential,Model\n",
    "from tensorflow.keras.layers import Dense, Dropout, Flatten,Input\n",
    "from tensorflow.keras.layers import Conv2D, MaxPooling2D\n",
    "from tensorflow.keras.layers import BatchNormalization\n",
    "from tensorflow.keras.layers import LeakyReLU\n",
    "from tensorflow.keras.utils import to_categorical\n",
    "\n",
    "test_x = np.empty((n_noisy,32,32,3))\n",
    "test_y = np.empty(n_noisy)\n",
    "valid_x = np.empty((n_clean_noisy,32,32,3))\n",
    "valid_y = np.empty(n_clean_noisy)\n",
    "\n",
    "for i in range(n_noisy):\n",
    "    img_fn = f'../data/images/{10000+i+1:05d}.png'\n",
    "    test_x[i,:,:,:]=cv2.cvtColor(cv2.imread(img_fn),cv2.COLOR_BGR2RGB)\n",
    "    test_y[i] = noisy_labels[10000+i]\n",
    "    \n",
    "for i in range(n_clean_noisy):\n",
    "    img_fn = f'../data/images/{i+1:05d}.png'\n",
    "    valid_x[i,:,:,:]=cv2.cvtColor(cv2.imread(img_fn),cv2.COLOR_BGR2RGB)\n",
    "    valid_y[i]= clean_labels[i]\n",
    "    \n",
    "\n",
    "test_y = to_categorical(test_y)\n",
    "valid_y = to_categorical(valid_y)\n",
    "\n",
    "test_x = test_x.astype(\"float32\")\n",
    "test_x = test_x/255\n",
    "\n",
    "valid_x = valid_x.astype(\"float32\")\n",
    "valid_x = valid_x/255\n",
    "\n",
    "\n",
    "batch_size = 64\n",
    "epochs = 20\n",
    "num_classes = 10\n",
    "\n",
    "\n",
    "cnn_model = Sequential()\n",
    "cnn_model.add(Conv2D(32, kernel_size=(3, 3),activation='linear',input_shape=(32,32,3),padding='same'))\n",
    "cnn_model.add(LeakyReLU(alpha=0.1))\n",
    "cnn_model.add(MaxPooling2D((2, 2),padding='same'))\n",
    "cnn_model.add(Conv2D(64, (3, 3), activation='linear',padding='same'))\n",
    "cnn_model.add(LeakyReLU(alpha=0.1))\n",
    "cnn_model.add(MaxPooling2D(pool_size=(2, 2),padding='same'))\n",
    "cnn_model.add(Conv2D(128, (3, 3), activation='linear',padding='same'))\n",
    "cnn_model.add(LeakyReLU(alpha=0.1))                  \n",
    "cnn_model.add(MaxPooling2D(pool_size=(2, 2),padding='same'))\n",
    "cnn_model.add(Flatten())\n",
    "cnn_model.add(Dense(128, activation='linear'))\n",
    "cnn_model.add(LeakyReLU(alpha=0.1))                  \n",
    "cnn_model.add(Dense(num_classes, activation='softmax'))\n",
    "\n",
    "cnn_model.compile(loss=keras.losses.categorical_crossentropy, optimizer=keras.optimizers.Adam(),metrics=['accuracy'])\n",
    "\n",
    "\n",
    "\n",
    "\n",
    "\n",
    "cnn_train = cnn_model.fit(test_x, test_y, batch_size=batch_size ,epochs=epochs,verbose=1,validation_data=(valid_x, valid_y))\n",
    "\n",
    "end = time.time()\n",
    "print(f\"Runtime of the program is {end - start} seconds\")\n",
    "\n",
    "def model_I(image):\n",
    "    '''\n",
    "    This function should takes in the image of dimension 32*32*3 as input and returns a label prediction\n",
    "    '''\n",
    "    # write your code here...\n",
    "    "
   ]
  },
  {
   "cell_type": "code",
   "execution_count": 43,
   "id": "e839bfdc",
   "metadata": {},
   "outputs": [
    {
     "name": "stdout",
     "output_type": "stream",
     "text": [
      "Epoch 1/10\n",
      "1250/1250 [==============================] - 21s 17ms/step - loss: 2.2786 - accuracy: 0.1389 - val_loss: 2.0934 - val_accuracy: 0.2706\n",
      "Epoch 2/10\n",
      "1250/1250 [==============================] - 22s 17ms/step - loss: 2.2495 - accuracy: 0.1783 - val_loss: 1.9696 - val_accuracy: 0.4000\n",
      "Epoch 3/10\n",
      "1250/1250 [==============================] - 22s 18ms/step - loss: 2.2276 - accuracy: 0.2015 - val_loss: 1.8977 - val_accuracy: 0.4199\n",
      "Epoch 4/10\n",
      "1250/1250 [==============================] - 23s 18ms/step - loss: 2.2105 - accuracy: 0.2151 - val_loss: 1.9095 - val_accuracy: 0.4378\n",
      "Epoch 5/10\n",
      "1250/1250 [==============================] - 22s 17ms/step - loss: 2.1925 - accuracy: 0.2293 - val_loss: 1.8267 - val_accuracy: 0.4805\n",
      "Epoch 6/10\n",
      "1250/1250 [==============================] - 23s 19ms/step - loss: 2.1742 - accuracy: 0.2401 - val_loss: 1.8149 - val_accuracy: 0.4774\n",
      "Epoch 7/10\n",
      "1250/1250 [==============================] - 23s 19ms/step - loss: 2.1498 - accuracy: 0.2503 - val_loss: 1.7853 - val_accuracy: 0.4891\n",
      "Epoch 8/10\n",
      "1250/1250 [==============================] - 23s 18ms/step - loss: 2.1220 - accuracy: 0.2630 - val_loss: 1.7749 - val_accuracy: 0.4743\n",
      "Epoch 9/10\n",
      "1250/1250 [==============================] - 22s 18ms/step - loss: 2.0861 - accuracy: 0.2774 - val_loss: 1.7666 - val_accuracy: 0.4671\n",
      "Epoch 10/10\n",
      "1250/1250 [==============================] - 23s 18ms/step - loss: 2.0457 - accuracy: 0.2941 - val_loss: 1.7958 - val_accuracy: 0.4463\n"
     ]
    }
   ],
   "source": [
    "#Model1 Another Simpler CNN Method(Convolution Neural Network) \n",
    "\n",
    "from tensorflow.keras import datasets, layers, models\n",
    "\n",
    "#Set the 10001st -50000th pic as training images(noisy labels)\n",
    "#Set the 1st-10000th pic as validation images since it has clean labels(the correct answer)\n",
    "test_x = np.empty((n_noisy,32,32,3))\n",
    "test_y = np.empty(n_noisy)\n",
    "valid_x = np.empty((n_clean_noisy,32,32,3))\n",
    "valid_y = np.empty(n_clean_noisy)\n",
    "\n",
    "for i in range(n_noisy):\n",
    "    img_fn = f'../data/images/{10000+i+1:05d}.png'\n",
    "    test_x[i,:,:,:]=cv2.cvtColor(cv2.imread(img_fn),cv2.COLOR_BGR2RGB)\n",
    "    test_y[i] = noisy_labels[10000+i]\n",
    "    \n",
    "for i in range(n_clean_noisy):\n",
    "    img_fn = f'../data/images/{i+1:05d}.png'\n",
    "    valid_x[i,:,:,:]=cv2.cvtColor(cv2.imread(img_fn),cv2.COLOR_BGR2RGB)\n",
    "    valid_y[i]= clean_labels[i]\n",
    "    \n",
    "#test_y = to_categorical(test_y)\n",
    "#valid_y = to_categorical(valid_y)\n",
    "\n",
    "test_x = test_x.astype(\"float32\")\n",
    "test_x = test_x/255\n",
    "\n",
    "valid_x = valid_x.astype(\"float32\")\n",
    "valid_x = valid_x/255\n",
    "\n",
    "#Build CNN model\n",
    "model = models.Sequential()\n",
    "model.add(layers.Conv2D(32, (3, 3), activation='relu', input_shape=(32, 32, 3)))\n",
    "model.add(layers.MaxPooling2D((2, 2)))\n",
    "model.add(layers.Conv2D(64, (3, 3), activation='relu'))\n",
    "model.add(layers.MaxPooling2D((2, 2)))\n",
    "model.add(layers.Conv2D(64, (3, 3), activation='relu'))\n",
    "model.add(layers.Flatten())\n",
    "model.add(layers.Dense(64, activation='relu'))\n",
    "model.add(layers.Dense(10))\n",
    "\n",
    "model.compile(optimizer='adam',\n",
    "              loss=tensorflow.keras.losses.SparseCategoricalCrossentropy(from_logits=True),\n",
    "              metrics=['accuracy'])\n",
    "\n",
    "history = model.fit(test_x, test_y, epochs=10, \n",
    "                    validation_data=(valid_x, valid_y))\n",
    "#Overall validation results is 0.4479 much better than Baseline Model"
   ]
  },
  {
   "cell_type": "markdown",
   "id": "036638c8",
   "metadata": {},
   "source": [
    "### 2.3. Model II"
   ]
  },
  {
   "cell_type": "code",
   "execution_count": null,
   "id": "a9661b16",
   "metadata": {},
   "outputs": [],
   "source": [
    "# [ADD WEAKLY SUPERVISED LEARNING FEATURE TO MODEL I]\n",
    "\n",
    "# write your code here...\n",
    "\n",
    "def model_II(image):\n",
    "    '''\n",
    "    This function should takes in the image of dimension 32*32*3 as input and returns a label prediction\n",
    "    '''\n",
    "    # write your code here..."
   ]
  },
  {
   "cell_type": "markdown",
   "id": "6b4c0f57",
   "metadata": {},
   "source": [
    "## 3. Evaluation"
   ]
  },
  {
   "cell_type": "markdown",
   "id": "45fb2a58",
   "metadata": {},
   "source": [
    "For assessment, we will evaluate your final model on a hidden test dataset with clean labels by the `evaluation` function defined as follows. Although you will not have the access to the test set, the function would be useful for the model developments. For example, you can split the small training set, using one portion for weakly supervised learning and the other for validation purpose. "
   ]
  },
  {
   "cell_type": "code",
   "execution_count": null,
   "id": "712c191b",
   "metadata": {},
   "outputs": [],
   "source": [
    "# [DO NOT MODIFY THIS CELL]\n",
    "def evaluation(model, test_labels, test_imgs):\n",
    "    y_true = test_labels\n",
    "    y_pred = []\n",
    "    for image in test_imgs:\n",
    "        y_pred.append(model(image))\n",
    "    print(classification_report(y_true, y_pred))"
   ]
  },
  {
   "cell_type": "code",
   "execution_count": null,
   "id": "2b9ec6fe",
   "metadata": {},
   "outputs": [],
   "source": [
    "# [DO NOT MODIFY THIS CELL]\n",
    "# This is the code for evaluating the prediction performance on a testset\n",
    "# You will get an error if running this cell, as you do not have the testset\n",
    "# Nonetheless, you can create your own validation set to run the evlauation\n",
    "n_test = 10000\n",
    "test_labels = np.genfromtxt('../data/test_labels.csv', delimiter=',', dtype=\"int8\")\n",
    "test_imgs = np.empty((n_test,32,32,3))\n",
    "for i in range(n_test):\n",
    "    img_fn = f'../data/test_images/test{i+1:05d}.png'\n",
    "    test_imgs[i,:,:,:]=cv2.cvtColor(cv2.imread(img_fn),cv2.COLOR_BGR2RGB)\n",
    "evaluation(baseline_model, test_labels, test_imgs)"
   ]
  },
  {
   "cell_type": "markdown",
   "id": "b82f0287",
   "metadata": {},
   "source": [
    "The overall accuracy is $0.24$, which is better than random guess (which should have a accuracy around $0.10$). For the project, you should try to improve the performance by the following strategies:\n",
    "\n",
    "- Consider a better choice of model architectures, hyperparameters, or training scheme for the predictive model;\n",
    "- Use both `clean_noisy_trainset` and `noisy_trainset` for model training via **weakly supervised learning** methods. One possible solution is to train a \"label-correction\" model using the former, correct the labels in the latter, and train the final predictive model using the corrected dataset.\n",
    "- Apply techniques such as $k$-fold cross validation to avoid overfitting;\n",
    "- Any other reasonable strategies."
   ]
  },
  {
   "cell_type": "code",
   "execution_count": 34,
   "id": "b338c3fa",
   "metadata": {},
   "outputs": [
    {
     "data": {
      "text/plain": [
       "array([[[0.07843138, 0.05882353, 0.04705882],\n",
       "        [0.07843138, 0.05882353, 0.04705882],\n",
       "        [0.07058824, 0.05098039, 0.03921569],\n",
       "        ...,\n",
       "        [0.07843138, 0.0627451 , 0.0627451 ],\n",
       "        [0.08235294, 0.0627451 , 0.05490196],\n",
       "        [0.08235294, 0.0627451 , 0.05098039]],\n",
       "\n",
       "       [[0.07843138, 0.05882353, 0.04705882],\n",
       "        [0.07843138, 0.05882353, 0.04705882],\n",
       "        [0.07058824, 0.05098039, 0.03921569],\n",
       "        ...,\n",
       "        [0.07843138, 0.0627451 , 0.05882353],\n",
       "        [0.08235294, 0.0627451 , 0.05098039],\n",
       "        [0.08235294, 0.0627451 , 0.05098039]],\n",
       "\n",
       "       [[0.07843138, 0.05882353, 0.04705882],\n",
       "        [0.07843138, 0.05882353, 0.04705882],\n",
       "        [0.07058824, 0.05098039, 0.03921569],\n",
       "        ...,\n",
       "        [0.07843138, 0.0627451 , 0.05490196],\n",
       "        [0.08235294, 0.0627451 , 0.05098039],\n",
       "        [0.08235294, 0.0627451 , 0.05098039]],\n",
       "\n",
       "       ...,\n",
       "\n",
       "       [[0.25882354, 0.21176471, 0.16078432],\n",
       "        [0.3137255 , 0.2627451 , 0.20784314],\n",
       "        [0.18431373, 0.13725491, 0.07450981],\n",
       "        ...,\n",
       "        [0.5254902 , 0.5254902 , 0.39215687],\n",
       "        [0.43137255, 0.44313726, 0.3019608 ],\n",
       "        [0.38431373, 0.4       , 0.25882354]],\n",
       "\n",
       "       [[0.23529412, 0.1882353 , 0.12941177],\n",
       "        [0.21568628, 0.16862746, 0.10588235],\n",
       "        [0.19607843, 0.14901961, 0.08627451],\n",
       "        ...,\n",
       "        [0.48235294, 0.49019608, 0.3254902 ],\n",
       "        [0.30980393, 0.31764707, 0.16470589],\n",
       "        [0.28235295, 0.2901961 , 0.14901961]],\n",
       "\n",
       "       [[0.2509804 , 0.21176471, 0.14901961],\n",
       "        [0.21568628, 0.1764706 , 0.11372549],\n",
       "        [0.1882353 , 0.14901961, 0.08235294],\n",
       "        ...,\n",
       "        [0.60784316, 0.6156863 , 0.43529412],\n",
       "        [0.53333336, 0.5372549 , 0.38039216],\n",
       "        [0.34509805, 0.34901962, 0.2       ]]], dtype=float32)"
      ]
     },
     "execution_count": 34,
     "metadata": {},
     "output_type": "execute_result"
    }
   ],
   "source": [
    "test_x = np.empty((n_noisy,32,32,3))\n",
    "test_y = np.empty(n_noisy)\n",
    "valid_x = np.empty((n_clean_noisy,32,32,3))\n",
    "valid_y = np.empty(n_clean_noisy)\n",
    "\n",
    "for i in range(n_noisy):\n",
    "    img_fn = f'../data/images/{10000+i+1:05d}.png'\n",
    "    test_x[i,:,:,:]=cv2.cvtColor(cv2.imread(img_fn),cv2.COLOR_BGR2RGB)\n",
    "    test_y[i] = noisy_labels[10000+i]\n",
    "    \n",
    "for i in range(n_clean_noisy):\n",
    "    img_fn = f'../data/images/{i+1:05d}.png'\n",
    "    valid_x[i,:,:,:]=cv2.cvtColor(cv2.imread(img_fn),cv2.COLOR_BGR2RGB)\n",
    "    valid_y[i]= clean_labels[i]\n",
    "    \n",
    "\n",
    "#test_y = to_categorical(test_y)\n",
    "#valid_y = to_categorical(valid_y)\n",
    "\n",
    "test_x = test_x.astype(\"float32\")\n",
    "test_x = test_x/255\n",
    "\n",
    "valid_x = valid_x.astype(\"float32\")\n",
    "valid_x = valid_x/255\n",
    "\n",
    "\n",
    "test_x[1]\n",
    "\n"
   ]
  },
  {
   "cell_type": "code",
   "execution_count": 35,
   "id": "5f6e53ec",
   "metadata": {},
   "outputs": [
    {
     "data": {
      "text/plain": [
       "(40000, 32, 32, 3)"
      ]
     },
     "execution_count": 35,
     "metadata": {},
     "output_type": "execute_result"
    }
   ],
   "source": [
    "test_x.shape"
   ]
  },
  {
   "cell_type": "code",
   "execution_count": 36,
   "id": "d9ad922e",
   "metadata": {},
   "outputs": [
    {
     "data": {
      "text/plain": [
       "7.0"
      ]
     },
     "execution_count": 36,
     "metadata": {},
     "output_type": "execute_result"
    }
   ],
   "source": [
    "test_y[1]"
   ]
  },
  {
   "cell_type": "code",
   "execution_count": 37,
   "id": "a16e77a1",
   "metadata": {},
   "outputs": [
    {
     "data": {
      "text/plain": [
       "(40000,)"
      ]
     },
     "execution_count": 37,
     "metadata": {},
     "output_type": "execute_result"
    }
   ],
   "source": [
    "test_y.shape"
   ]
  },
  {
   "cell_type": "code",
   "execution_count": 39,
   "id": "b6bde2ea",
   "metadata": {},
   "outputs": [
    {
     "data": {
      "text/plain": [
       "((10000, 32, 32, 3), (10000,))"
      ]
     },
     "execution_count": 39,
     "metadata": {},
     "output_type": "execute_result"
    }
   ],
   "source": [
    "valid_x.shape,valid_y.shape"
   ]
  },
  {
   "cell_type": "code",
   "execution_count": 40,
   "id": "20433db6",
   "metadata": {},
   "outputs": [
    {
     "data": {
      "text/plain": [
       "array([[0., 0., 0., ..., 0., 0., 0.],\n",
       "       [0., 0., 0., ..., 0., 0., 1.],\n",
       "       [0., 0., 0., ..., 0., 0., 1.],\n",
       "       ...,\n",
       "       [0., 1., 0., ..., 0., 0., 0.],\n",
       "       [0., 1., 0., ..., 0., 0., 0.],\n",
       "       [0., 0., 0., ..., 0., 0., 0.]], dtype=float32)"
      ]
     },
     "execution_count": 40,
     "metadata": {},
     "output_type": "execute_result"
    }
   ],
   "source": [
    "to_categorical(valid_y)\n",
    "\n"
   ]
  }
 ],
 "metadata": {
  "kernelspec": {
   "display_name": "Python 3",
   "language": "python",
   "name": "python3"
  },
  "language_info": {
   "codemirror_mode": {
    "name": "ipython",
    "version": 3
   },
   "file_extension": ".py",
   "mimetype": "text/x-python",
   "name": "python",
   "nbconvert_exporter": "python",
   "pygments_lexer": "ipython3",
   "version": "3.8.8"
  }
 },
 "nbformat": 4,
 "nbformat_minor": 5
}
